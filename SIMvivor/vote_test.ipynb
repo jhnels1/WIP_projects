{
 "cells": [
  {
   "cell_type": "code",
   "execution_count": 1,
   "metadata": {},
   "outputs": [],
   "source": [
    "import numpy as np\n",
    "import matplotlib.pyplot as plt\n",
    "import random\n",
    "import string\n",
    "import pickle"
   ]
  },
  {
   "cell_type": "code",
   "execution_count": null,
   "metadata": {},
   "outputs": [],
   "source": [
    "# Let's ignore some of the global constraints for now, such as dividing players into Clans.\n",
    "# Our first task is to see if we can represent a collection of players and have them vote each other off"
   ]
  },
  {
   "cell_type": "code",
   "execution_count": 23,
   "metadata": {},
   "outputs": [],
   "source": [
    "class Game:\n",
    "    def __init__(self, name_list):\n",
    "        self.roster = [ Castaway(name) for name in name_list ]\n",
    "        \n",
    "    def echo(self):\n",
    "        echo_array = [  player.name for player in self.roster ]\n",
    "        print('Current Roster:')\n",
    "        print(echo_array)\n",
    "        #for player in self.roster:\n",
    "        #    print( player.name )\n",
    "\n",
    "    def eject(self, player_name):\n",
    "        for i, player in enumerate(self.roster):\n",
    "            if player.name == player_name:\n",
    "                print('Ousting', player_name)\n",
    "                ousted_player = self.roster.pop( i )\n",
    "    \n",
    "    def hold_vote(self):\n",
    "        vote_map = dict() # records each players vote\n",
    "        \n",
    "        for voter in self.roster:\n",
    "            target_list = list() # List of potential vote targets\n",
    "            for target in self.roster:\n",
    "                if (voter.name==target.name) or (target.immunity):\n",
    "                    # Cant vote for yourself, or anyone with immunity\n",
    "                    continue\n",
    "                else:\n",
    "                    target_list.append( target.name )\n",
    "            \n",
    "            # now choose a target\n",
    "            # For now, let's just assume that all voting is random\n",
    "            vote_map[voter.name] = random.choice( target_list )\n",
    "        print( 'Unblinded Vote Result:' )\n",
    "        print(vote_map)\n",
    "        \n",
    "        # now make a tally of the result\n",
    "        tally = dict()\n",
    "        # go through each vote\n",
    "        for voter_name in vote_map:\n",
    "            # if the target isn't in the tally, add it\n",
    "            if vote_map[voter_name] not in tally:\n",
    "                tally[vote_map[voter_name]] = 1\n",
    "            # otherwise, increment by 1\n",
    "            else:\n",
    "                tally[vote_map[voter_name]]+=1\n",
    "        print('Vote tally:')\n",
    "        print(tally)\n",
    "        \n",
    "        # Now determine whether the vote is conclusive\n",
    "        loser_list = list()\n",
    "        vote_max = 0\n",
    "        for target_name in tally:\n",
    "            if tally[target_name] < vote_max:\n",
    "                # dont need to do anything\n",
    "                continue\n",
    "            elif tally[target_name] > vote_max:\n",
    "                # clear the previous list, crown new loser\n",
    "                loser_list=list() # clean the slate\n",
    "                loser_list.append( target_name )\n",
    "                vote_max = tally[target_name]\n",
    "            else:\n",
    "                # If tied with the leader, add them to the list\n",
    "                loser_list.append( target_name )\n",
    "        \n",
    "        if len(loser_list)>1:\n",
    "            print('We have a tie')\n",
    "            print(loser_list, 'are tied with', vote_max, 'votes')\n",
    "        else:\n",
    "            print('We have a deciscion')\n",
    "            print( loser_list, 'loses with', vote_max, 'votes' )\n",
    "            \n",
    "    \n",
    "class Castaway:\n",
    "    def __init__(self, name):\n",
    "        self.name = name # the name of the castaway\n",
    "        self.immunity = False # bool indicating whether the player is exempt from a vote\n",
    "        \n",
    "        \n"
   ]
  },
  {
   "cell_type": "code",
   "execution_count": 33,
   "metadata": {},
   "outputs": [
    {
     "name": "stdout",
     "output_type": "stream",
     "text": [
      "Current Roster:\n",
      "['Matthew', 'Mark', 'Luke', 'John', 'Peter', 'Paul']\n",
      "Unblinded Vote Result:\n",
      "{'Matthew': 'John', 'Mark': 'John', 'Luke': 'Matthew', 'John': 'Paul', 'Peter': 'Paul', 'Paul': 'Mark'}\n",
      "Vote tally:\n",
      "{'John': 2, 'Matthew': 1, 'Paul': 2, 'Mark': 1}\n",
      "We have a tie\n",
      "['John', 'Paul'] are tied with 2 votes\n"
     ]
    }
   ],
   "source": [
    "# The instance of the game\n",
    "game_instance = Game( ['Matthew', 'Mark', 'Luke', 'John', 'Peter', 'Paul'] )\n",
    "\n",
    "# check that all the players are in the game\n",
    "game_instance.echo()\n",
    "\n",
    "# Try to hold a vote\n",
    "game_instance.hold_vote()"
   ]
  },
  {
   "cell_type": "code",
   "execution_count": null,
   "metadata": {},
   "outputs": [],
   "source": []
  }
 ],
 "metadata": {
  "kernelspec": {
   "display_name": "Python 3",
   "language": "python",
   "name": "python3"
  },
  "language_info": {
   "codemirror_mode": {
    "name": "ipython",
    "version": 3
   },
   "file_extension": ".py",
   "mimetype": "text/x-python",
   "name": "python",
   "nbconvert_exporter": "python",
   "pygments_lexer": "ipython3",
   "version": "3.7.4"
  }
 },
 "nbformat": 4,
 "nbformat_minor": 4
}
