{
 "cells": [
  {
   "cell_type": "code",
   "execution_count": 1,
   "metadata": {},
   "outputs": [],
   "source": [
    "import numpy as np\n",
    "import pandas as pd\n",
    "import matplotlib.pyplot as plt\n",
    "\n",
    "import os\n",
    "import sys\n",
    "from pprint import pprint"
   ]
  },
  {
   "cell_type": "code",
   "execution_count": 2,
   "metadata": {},
   "outputs": [],
   "source": [
    "runs_dir = r'C:\\Program Files (x86)\\GOG Galaxy\\Games\\Slay the Spire\\runs'\n",
    "\n",
    "#run_types = ['\\DAILY', '\\DEFECT', '\\IRONCLAD', '\\THE_SILENT', '\\WATCHER']\n",
    "run_types = ['\\DEFECT', '\\IRONCLAD', '\\THE_SILENT', '\\WATCHER']"
   ]
  },
  {
   "cell_type": "code",
   "execution_count": 3,
   "metadata": {},
   "outputs": [
    {
     "name": "stdout",
     "output_type": "stream",
     "text": [
      "C:\\Program Files (x86)\\GOG Galaxy\\Games\\Slay the Spire\\runs\n"
     ]
    }
   ],
   "source": [
    "print(runs_dir)"
   ]
  },
  {
   "cell_type": "code",
   "execution_count": null,
   "metadata": {},
   "outputs": [],
   "source": []
  },
  {
   "cell_type": "code",
   "execution_count": 4,
   "metadata": {},
   "outputs": [
    {
     "name": "stdout",
     "output_type": "stream",
     "text": [
      "['DAILY', 'DEFECT', 'IRONCLAD', 'THE_SILENT', 'WATCHER']\n"
     ]
    }
   ],
   "source": [
    "print( os.listdir(runs_dir) )"
   ]
  },
  {
   "cell_type": "code",
   "execution_count": 35,
   "metadata": {},
   "outputs": [
    {
     "name": "stdout",
     "output_type": "stream",
     "text": [
      "3 0\n",
      "C:\\Program Files (x86)\\GOG Galaxy\\Games\\Slay the Spire\\runs\\IRONCLAD\\1612029010.run\n",
      "Empty DataFrame\n",
      "Columns: [{\"gold_per_floor\", [110,121,147,58,58,87,87,87,87,87,101,112,124,76,76,173,173,191,176,0,27,27,27,27,27,27,27,38,55,15,30,30,30],\"floor_reached\", 33,\"playtime\", 3834,\"items_purged\", [],\"score\", 270,\"play_id\", 946868f1-cfce-413c-8902-d21d543d8337,\"local_time\", 20210130115010,\"is_ascension_mode\", false,\"campfire_choices\", [{\"floor\", 7,\"key\", REST},{\"data\", Bash,\"floor\", 10,\"key\", SMITH},{\"floor\", 15,\"key\", REST},{\"floor\", 23,\"key\", REST},{\"floor\".1, 25,\"key\", REST},{\"data\".1, Shrug It Off,\"floor\", 27,\"key\", SMITH},{\"floor\".1, 32,\"key\", REST}],\"neow_cost\", ,\"seed_source_timestamp\", 125010887092600,\"circlet_count\", 0,\"master_deck\", [\"Strike_R\",\"Strike_R\",\"Strike_R\",\"Strike_R\",\"Strike_R\",\"Defend_R\",\"Defend_R\",\"Defend_R\",\"Defend_R\",\"Bash+1\",\"Clothesline\",\"True Grit\",\"Inflame\",\"Shrug It Off+1\",\"Flex\",\"Fiend Fire\",\"Headbutt\",\"Warcry\",\"Barricade\",\"Cleave\",\"Anger\",\"Shame\",\"Seeing Red\",\"Body Slam\",\"Rupture\",\"Warcry\"],\"relics\", [\"Burning Blood\",\"Oddly Smooth Stone\",\"White Beast Statue\",\"Potion Belt\",\"SacredBark\",\"Pen Nib\",\"PreservedInsect\",\"Pear\"],\"potions_floor_usage\", [16,16,28,29,29,31,31,33,33,33],\"damage_taken\", [{\"damage\", 5,\"enemies\", Cultist,\"floor\", 1,\"turns\", 4},{\"damage\", 0,\"enemies\", 2 Louse,\"floor\", 2,\"turns\", 3},{\"damage\", 56,\"enemies\", Gremlin Nob,\"floor\", 6,\"turns\", 7},{\"damage\", 5,\"enemies\".1, Jaw Worm,\"floor\", 11,\"turns\", 3},{\"damage\".1, 16,\"enemies\", Large Slime,\"floor\", 12,\"turns\", 9},{\"damage\", 10,\"enemies\", Exordium Wildlife,\"floor\", 13,\"turns\", 5},{\"damage\", 52,\"enemies\", The Guardian,\"floor\", 16,\"turns\", 20},{\"damage\", 44,\"enemies\", Chosen,\"floor\", 18,\"turns\", 8},{\"damage\", 17,\"enemies\", 2 Thieves,\"floor\", 19,\"turns\", 4},{\"damage\".1, 3,\"enemies\", Snecko,\"floor\", 28,\"turns\", 6},{\"damage\", 24,\"enemies\", Centurion and Healer,\"floor\", 29,\"turns\", 8},{\"damage\".1, 57,\"enemies\", 3 Cultists,\"floor\", 31,\"turns\", 5},{\"damage\".1, 42,\"enemies\", Champ,\"floor\", 33,\"turns\", 7}],\"seed_played\", -4362788985427952562,\"potions_obtained\", [{\"floor\".1, 1,\"key\", Block Potion},{\"floor\", 2,\"key\", Dexterity Potion},{\"floor\", 11,\"key\", LiquidMemories},{\"floor\", 12,\"key\", Swift Potion},{\"floor\", 13,\"key\", Strength Potion},{\"floor\", 16,\"key\", EssenceOfSteel},{\"floor\", 18,\"key\", ...]\n",
      "Index: []\n",
      "\n",
      "[0 rows x 233 columns]\n"
     ]
    }
   ],
   "source": [
    "rtype = '\\IRONCLAD'\n",
    "#for i, rtype in enumerate(run_types):\n",
    "    \n",
    "runs_list = os.listdir(runs_dir+rtype)\n",
    "#pprint( runs_list )\n",
    "for j, run_name in enumerate(runs_list):\n",
    "    if j>0:\n",
    "        break\n",
    "    print( i, j )\n",
    "    print(runs_dir+rtype+ \"\\\\\" + run_name)\n",
    "\n",
    "    #with open(runs_dir+rtype+ \"\\\\\" + run_name) as f:\n",
    "        \n",
    "    #    pprint((f.read()))\n",
    "\n",
    "    #pprint(list(d))\n",
    "    run_inst = pd.read_table( runs_dir+rtype+ \"\\\\\" + run_name, sep=':' )\n",
    "    \n",
    "    #pprint( runs_dir+rtype+ \"\\\\\" + run_name )\n",
    "\n",
    "    #print( len(list(run_inst)) )\n",
    "    pprint( run_inst )\n",
    "    #pprint(list(run_inst))\n",
    "    #print(run_inst[[\"gold_per_floor\"]])\n",
    "    #print(run_inst)\n",
    "\n",
    "    #print(run_inst['gold_per_floor'])\n",
    "    #print( run_inst.loc[0] )\n",
    "    #print(list(run_inst))"
   ]
  },
  {
   "cell_type": "code",
   "execution_count": null,
   "metadata": {},
   "outputs": [],
   "source": []
  }
 ],
 "metadata": {
  "kernelspec": {
   "display_name": "Python 3 (ipykernel)",
   "language": "python",
   "name": "python3"
  },
  "language_info": {
   "codemirror_mode": {
    "name": "ipython",
    "version": 3
   },
   "file_extension": ".py",
   "mimetype": "text/x-python",
   "name": "python",
   "nbconvert_exporter": "python",
   "pygments_lexer": "ipython3",
   "version": "3.11.3"
  }
 },
 "nbformat": 4,
 "nbformat_minor": 2
}
